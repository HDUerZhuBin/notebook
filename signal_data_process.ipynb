{
 "cells": [
  {
   "cell_type": "code",
   "execution_count": 3,
   "metadata": {},
   "outputs": [],
   "source": [
    "import numpy as np\n",
    "import matplotlib.pyplot as plt"
   ]
  },
  {
   "cell_type": "code",
   "execution_count": 4,
   "metadata": {},
   "outputs": [],
   "source": [
    "test = np.array([15,58,79,35,64,78,92,92,92,47,58,62,14,14,78,25,68,98,97,98,98,54,25,24,49,87])"
   ]
  },
  {
   "cell_type": "code",
   "execution_count": 6,
   "metadata": {},
   "outputs": [],
   "source": [
    "import plotly.graph_objs as go\n",
    "from plotly.offline import plot"
   ]
  },
  {
   "cell_type": "code",
   "execution_count": 7,
   "metadata": {},
   "outputs": [
    {
     "data": {
      "text/plain": [
       "'temp-plot.html'"
      ]
     },
     "execution_count": 7,
     "metadata": {},
     "output_type": "execute_result"
    }
   ],
   "source": [
    "test_trace = go.Scatter(y=test,\n",
    "                       mode=\"lines+markers\",\n",
    "                       name=\"test\")\n",
    "data = [test_trace]\n",
    "fig = go.Figure(data)\n",
    "plot(fig)"
   ]
  },
  {
   "cell_type": "code",
   "execution_count": 11,
   "metadata": {},
   "outputs": [
    {
     "name": "stdout",
     "output_type": "stream",
     "text": [
      "dy= [ 43  21 -44  29  14  14   0   0 -45  11   4 -48   0  64 -53  43  30  -1\n",
      "   1   0 -44 -29  -1  25  38]\n"
     ]
    }
   ],
   "source": [
    "dy = np.diff(test)\n",
    "print(\"dy=\",dy)"
   ]
  },
  {
   "cell_type": "code",
   "execution_count": 21,
   "metadata": {},
   "outputs": [],
   "source": [
    "zeros, = np.where(dy==0) #the zeros itself are idxes"
   ]
  },
  {
   "cell_type": "code",
   "execution_count": 18,
   "metadata": {},
   "outputs": [
    {
     "name": "stdout",
     "output_type": "stream",
     "text": [
      "zeros:[ 6  7 12 19]\n",
      "dy[zeros]:[0 0 0 0]\n"
     ]
    }
   ],
   "source": [
    "print(\"zeros:{}\".format(zeros)) #zeros is the idx_array where the dy==0,the signal has the adjance value\n",
    "print(\"dy[zeros]:{}\".format(dy[zeros]))"
   ]
  },
  {
   "cell_type": "code",
   "execution_count": 23,
   "metadata": {},
   "outputs": [
    {
     "name": "stdout",
     "output_type": "stream",
     "text": [
      "[1 5 7]\n"
     ]
    }
   ],
   "source": [
    "zeros_diff = np.diff(zeros) #to identify if has the duration value(if zeros_diff is 1):the difference of idx\n",
    "print(zeros_diff)"
   ]
  },
  {
   "cell_type": "code",
   "execution_count": 26,
   "metadata": {},
   "outputs": [
    {
     "name": "stdout",
     "output_type": "stream",
     "text": [
      "zeros_diff_not_one:[2 3]\n"
     ]
    }
   ],
   "source": [
    "zeros_diff_not_one, = np.add(np.where(zeros_diff!=1),1) #zeros_diff_not_one are the idxes of the zeros(the idx of idx)\n",
    "print(\"zeros_diff_not_one:{}\".format(zeros_diff_not_one))"
   ]
  },
  {
   "cell_type": "code",
   "execution_count": 30,
   "metadata": {},
   "outputs": [
    {
     "name": "stdout",
     "output_type": "stream",
     "text": [
      "zero_plateaus= [array([6, 7]), array([12]), array([19])]\n"
     ]
    }
   ],
   "source": [
    "print(\"zero_plateaus=\",zero_plateaus) #calc the 0_platform,平臺（無起伏波動）"
   ]
  },
  {
   "cell_type": "code",
   "execution_count": 36,
   "metadata": {},
   "outputs": [
    {
     "name": "stdout",
     "output_type": "stream",
     "text": [
      "6.5\n",
      "[0]\n",
      "14\n",
      "12.0\n",
      "[]\n",
      "-48\n",
      "19.0\n",
      "[]\n",
      "1\n"
     ]
    }
   ],
   "source": [
    "#如果dy的頭部是平原地帶，就將頭部平原地帶刪除（以dy爲目標對象）\n",
    "#fix if leftmost value in dy is zero\n",
    "if zero_plateaus[0][0]==0: #檢查第一個平原地區的第一個坐標是否爲0\n",
    "    dy[zero_plateaus[0]] = dy[zero_plateaus[0][-1]+1] #如果第一個平原是以0爲起始坐標，將此處差分值改變爲非平原地帶\n",
    "    zero_plateaus.pop(0) #刪除第一個頭平原地帶\n",
    "    \n",
    "#如果dy的尾部是平原地帶，就將尾部平原地帶刪除（以dy爲目標對象）\n",
    "#fix if rightmost value in dy is zero\n",
    "if zero_plateaus[-1][-1] == len(dy) - 1:#檢查最後一個平原地區的最後一個坐標是否爲結束\n",
    "    dy[zero_plateaus[-1]] == dy[zero_plateaus[-1][0] - 1]\n",
    "    zero_plateaus.pop(-1)\n",
    "\n",
    "#如何對於平原地帶進行處理\n",
    "for plateau in zero_plateaus:\n",
    "    median = np.median(plateau)\n",
    "#     print(median)\n",
    "#     print(dy[plateau[plateau<median]])\n",
    "#     print(dy[plateau[0]-1])\n",
    "    #將平原處中間位置左邊的值進行第一平原最近左端處理\n",
    "    dy[plateau[plateau<median]] = dy[plateau[0]-1]\n",
    "    #將平原中間位置右邊的值進行最後平原近右端處理\n",
    "    dy[plateau[plateau>=median]] = dy[plateau[-1+1]"
   ]
  },
  {
   "cell_type": "code",
   "execution_count": null,
   "metadata": {},
   "outputs": [],
   "source": []
  }
 ],
 "metadata": {
  "kernelspec": {
   "display_name": "Python 3",
   "language": "python",
   "name": "python3"
  },
  "language_info": {
   "codemirror_mode": {
    "name": "ipython",
    "version": 3
   },
   "file_extension": ".py",
   "mimetype": "text/x-python",
   "name": "python",
   "nbconvert_exporter": "python",
   "pygments_lexer": "ipython3",
   "version": "3.7.1"
  }
 },
 "nbformat": 4,
 "nbformat_minor": 2
}
