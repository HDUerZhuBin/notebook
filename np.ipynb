{
 "cells": [
  {
   "cell_type": "markdown",
   "metadata": {},
   "source": [
    "# the usage of numpy.add"
   ]
  },
  {
   "cell_type": "code",
   "execution_count": 3,
   "metadata": {},
   "outputs": [],
   "source": [
    "import numpy as np"
   ]
  },
  {
   "cell_type": "code",
   "execution_count": 9,
   "metadata": {},
   "outputs": [
    {
     "name": "stdout",
     "output_type": "stream",
     "text": [
      "first input number: 10\n",
      "second input number: 15\n",
      "out_num: 25\n"
     ]
    }
   ],
   "source": [
    "\"\"\"\n",
    "exmaple1:\n",
    "\"\"\"\n",
    "in_num1 = 10\n",
    "in_num2 = 15\n",
    "print(\"first input number:\",in_num1)\n",
    "print(\"second input number:\",in_num2)\n",
    "\n",
    "out_num = np.add(in_num1,in_num2)\n",
    "print(\"out_num:\",out_num)"
   ]
  },
  {
   "cell_type": "code",
   "execution_count": 11,
   "metadata": {},
   "outputs": [
    {
     "name": "stdout",
     "output_type": "stream",
     "text": [
      "in_arr1.shape:(2, 3)\n",
      "[[ 2 -7  5]\n",
      " [-6  2  0]]\n",
      "********\n",
      "in_arr2.shape:(2, 3)\n",
      "[[ 5  8 -5]\n",
      " [ 3  6  9]]\n",
      "********\n",
      "out_arr.shape:(2, 3)\n",
      "[[ 7  1  0]\n",
      " [-3  8  9]]\n"
     ]
    }
   ],
   "source": [
    "\"\"\"\n",
    "example2:\n",
    "\"\"\"\n",
    "in_arr1 = np.array([[2,-7,5],[-6,2,0]])\n",
    "in_arr2 = np.array([[5,8,-5],[3,6,9]])\n",
    "\n",
    "print(\"in_arr1.shape:{}\".format(in_arr1.shape))\n",
    "print(in_arr1)\n",
    "print(\"********\")\n",
    "print(\"in_arr2.shape:{}\".format(in_arr2.shape))\n",
    "print(in_arr2)\n",
    "print(\"********\")\n",
    "\n",
    "out_arr = np.add(in_arr1,in_arr2)\n",
    "print(\"out_arr.shape:{}\".format(out_arr.shape))\n",
    "print(out_arr)"
   ]
  },
  {
   "cell_type": "code",
   "execution_count": 16,
   "metadata": {},
   "outputs": [
    {
     "data": {
      "text/plain": [
       "5.0"
      ]
     },
     "execution_count": 16,
     "metadata": {},
     "output_type": "execute_result"
    }
   ],
   "source": [
    "\"\"\"\n",
    "official example\n",
    "\"\"\"\n",
    "\n",
    "np.add(1.0,4.0)"
   ]
  },
  {
   "cell_type": "code",
   "execution_count": 35,
   "metadata": {},
   "outputs": [
    {
     "name": "stdout",
     "output_type": "stream",
     "text": [
      "x1.shape:(3, 3)\n",
      "[[0. 1. 2.]\n",
      " [3. 4. 5.]\n",
      " [6. 7. 8.]]\n",
      "********\n",
      "x2.shape:(3,)\n",
      "[0. 1. 2.]\n",
      "add_ret.shape:(3, 3)\n",
      "[[ 0.  2.  4.]\n",
      " [ 3.  5.  7.]\n",
      " [ 6.  8. 10.]]\n"
     ]
    }
   ],
   "source": [
    "x1 = np.arange(9.0).reshape((3,3))\n",
    "print(\"x1.shape:{}\".format(x1.shape))\n",
    "print(x1)\n",
    "print(\"********\")\n",
    "x2 = np.arange(3.0)\n",
    "print(\"x2.shape:{}\".format(x2.shape))\n",
    "print(x2)\n",
    "add_ret = np.add(x1,x2)\n",
    "print(\"add_ret.shape:{}\".format(add_ret.shape))\n",
    "print(add_ret)"
   ]
  },
  {
   "cell_type": "markdown",
   "metadata": {},
   "source": [
    "# the usage of numpy.split"
   ]
  },
  {
   "cell_type": "code",
   "execution_count": 1,
   "metadata": {},
   "outputs": [],
   "source": [
    "import numpy as np"
   ]
  },
  {
   "cell_type": "code",
   "execution_count": 12,
   "metadata": {},
   "outputs": [
    {
     "name": "stdout",
     "output_type": "stream",
     "text": [
      "a.shape:(9,)\n",
      "[0 1 2 3 4 5 6 7 8]\n",
      "*********\n",
      "split the array into 3 sub_array:\n",
      "[array([0, 1, 2]), array([3, 4, 5]), array([6, 7, 8])]\n",
      "*********\n",
      "[array([0]), array([1, 2]), array([3, 4, 5, 6]), array([7, 8])]\n"
     ]
    }
   ],
   "source": [
    "a = np.arange(9)\n",
    "print(\"a.shape:{}\".format(a.shape))\n",
    "print(a)\n",
    "\n",
    "print(\"*********\")\n",
    "\n",
    "print(\"split the array into 3 sub_array:\")\n",
    "b = np.split(a,3)\n",
    "print(b)\n",
    "\n",
    "print(\"*********\")\n",
    "\n",
    "c = np.split(a,[1,3,7])\n",
    "print(c)"
   ]
  },
  {
   "cell_type": "code",
   "execution_count": 13,
   "metadata": {},
   "outputs": [
    {
     "data": {
      "text/plain": [
       "'/home/zhubin/LangYangTech/notebook'"
      ]
     },
     "execution_count": 13,
     "metadata": {},
     "output_type": "execute_result"
    }
   ],
   "source": [
    "pwd"
   ]
  },
  {
   "cell_type": "code",
   "execution_count": null,
   "metadata": {},
   "outputs": [],
   "source": []
  }
 ],
 "metadata": {
  "kernelspec": {
   "display_name": "Python 3",
   "language": "python",
   "name": "python3"
  },
  "language_info": {
   "codemirror_mode": {
    "name": "ipython",
    "version": 3
   },
   "file_extension": ".py",
   "mimetype": "text/x-python",
   "name": "python",
   "nbconvert_exporter": "python",
   "pygments_lexer": "ipython3",
   "version": "3.7.1"
  }
 },
 "nbformat": 4,
 "nbformat_minor": 2
}
