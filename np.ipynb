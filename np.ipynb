{
 "cells": [
  {
   "cell_type": "markdown",
   "metadata": {},
   "source": [
    "# the usage of numpy.add"
   ]
  },
  {
   "cell_type": "code",
   "execution_count": 3,
   "metadata": {},
   "outputs": [],
   "source": [
    "import numpy as np"
   ]
  },
  {
   "cell_type": "code",
   "execution_count": 9,
   "metadata": {},
   "outputs": [
    {
     "name": "stdout",
     "output_type": "stream",
     "text": [
      "first input number: 10\n",
      "second input number: 15\n",
      "out_num: 25\n"
     ]
    }
   ],
   "source": [
    "\"\"\"\n",
    "exmaple1:\n",
    "\"\"\"\n",
    "in_num1 = 10\n",
    "in_num2 = 15\n",
    "print(\"first input number:\",in_num1)\n",
    "print(\"second input number:\",in_num2)\n",
    "\n",
    "out_num = np.add(in_num1,in_num2)\n",
    "print(\"out_num:\",out_num)"
   ]
  },
  {
   "cell_type": "code",
   "execution_count": 10,
   "metadata": {},
   "outputs": [
    {
     "data": {
      "text/plain": [
       "'\\nexample2:\\n'"
      ]
     },
     "execution_count": 10,
     "metadata": {},
     "output_type": "execute_result"
    }
   ],
   "source": [
    "\"\"\"\n",
    "example2:\n",
    "\"\"\"\n",
    "in_arr1 = np.array([[2,-7,5],[-6,2,0]])\n",
    "in_arr2 = np.array([[5,8,-5],[3,6,9]])\n",
    "\n",
    "print(\"in_arr1.shape:{}\".format(in_arr1.shape))\n",
    "print(in_arr1)\n",
    "print(\"********\")\n",
    "print(\"in_arr2.shape:{}\".format(in_arr2.shape))\n",
    "print(in_arr2)\n",
    "\n"
   ]
  },
  {
   "cell_type": "code",
   "execution_count": null,
   "metadata": {},
   "outputs": [],
   "source": []
  }
 ],
 "metadata": {
  "kernelspec": {
   "display_name": "Python 3",
   "language": "python",
   "name": "python3"
  },
  "language_info": {
   "codemirror_mode": {
    "name": "ipython",
    "version": 3
   },
   "file_extension": ".py",
   "mimetype": "text/x-python",
   "name": "python",
   "nbconvert_exporter": "python",
   "pygments_lexer": "ipython3",
   "version": "3.7.1"
  }
 },
 "nbformat": 4,
 "nbformat_minor": 2
}
